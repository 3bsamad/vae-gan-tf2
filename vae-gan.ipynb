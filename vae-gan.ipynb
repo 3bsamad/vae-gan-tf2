{
 "cells": [
  {
   "cell_type": "code",
   "execution_count": 1,
   "metadata": {},
   "outputs": [],
   "source": [
    "import tensorflow.keras as keras\n",
    "import os\n",
    "import numpy as np\n",
    "import matplotlib.pyplot as plt\n",
    "import tensorflow as tf\n",
    "import datetime\n",
    "import sys"
   ]
  },
  {
   "cell_type": "code",
   "execution_count": 2,
   "metadata": {},
   "outputs": [
    {
     "data": {
      "text/plain": [
       "[PhysicalDevice(name='/physical_device:GPU:0', device_type='GPU')]"
      ]
     },
     "execution_count": 2,
     "metadata": {},
     "output_type": "execute_result"
    }
   ],
   "source": [
    "tf.config.experimental.list_physical_devices('GPU')"
   ]
  },
  {
   "cell_type": "markdown",
   "metadata": {},
   "source": [
    "## Input dataset\n",
    "Dataset used is celebA : https://www.kaggle.com/jessicali9530/celeba-dataset"
   ]
  },
  {
   "cell_type": "code",
   "execution_count": 3,
   "metadata": {},
   "outputs": [
    {
     "name": "stdout",
     "output_type": "stream",
     "text": [
      "(64, 64, 3)\n",
      "len dataset :  3166\n"
     ]
    },
    {
     "data": {
      "image/png": "[encoded data removed]",
      "text/plain": [
       "<Figure size 432x288 with 1 Axes>"
      ]
     },
     "metadata": {
      "needs_background": "light"
     },
     "output_type": "display_data"
    }
   ],
   "source": [
    "IM_DIM = 64\n",
    "@tf.function\n",
    "def im_preprocessing(im_path) :\n",
    "    im_file = tf.io.read_file(im_path)\n",
    "    im = tf.io.decode_jpeg(im_file)\n",
    "    im = tf.image.convert_image_dtype(im, tf.float32)\n",
    "    im = tf.image.crop_to_bounding_box(im, 20,0,178,178)\n",
    "    im = tf.image.resize(im, [IM_DIM, IM_DIM])\n",
    "    return(im)\n",
    "\n",
    "batch_size = 64\n",
    "im_patern = \"./data/img_align_celeba/img_align_celeba/*.jpg\"\n",
    "files_dataset = tf.data.Dataset.list_files(im_patern)\n",
    "im_dataset = files_dataset.map(im_preprocessing)\n",
    "im_dataset_batch = im_dataset.batch(batch_size)\n",
    "\n",
    "for x in im_dataset.take(1) :\n",
    "    print(x.numpy().shape)\n",
    "    print(\"len dataset : \", tf.data.experimental.cardinality(im_dataset_batch).numpy())\n",
    "    plt.imshow(x)"
   ]
  },
  {
   "cell_type": "markdown",
   "metadata": {},
   "source": [
    "## Making models"
   ]
  },
  {
   "cell_type": "code",
   "execution_count": 4,
   "metadata": {},
   "outputs": [],
   "source": [
    "DEPTH = 32\n",
    "LATENT_DEPTH = 512\n",
    "K_SIZE = 5"
   ]
  },
  {
   "cell_type": "code",
   "execution_count": 5,
   "metadata": {},
   "outputs": [],
   "source": [
    "def sampling(args):\n",
    "    mean, logsigma = args\n",
    "    epsilon = tf.random.normal(shape=(LATENT_DEPTH,), mean=0., stddev=1.0)\n",
    "    return mean + tf.exp(logsigma / 2) * epsilon\n",
    "\n",
    "def encoder():\n",
    "    input_E = keras.layers.Input(shape=(IM_DIM, IM_DIM, 3))\n",
    "    \n",
    "    X = keras.layers.Conv2D(filters=DEPTH*2, kernel_size=K_SIZE, strides=2, padding='same')(input_E)\n",
    "    X = keras.layers.BatchNormalization()(X)\n",
    "    X = keras.layers.LeakyReLU(alpha=0.2)(X)\n",
    "\n",
    "    X = keras.layers.Conv2D(filters=DEPTH*4, kernel_size=K_SIZE, strides=2, padding='same')(X)\n",
    "    X = keras.layers.BatchNormalization()(X)\n",
    "    X = keras.layers.LeakyReLU(alpha=0.2)(X)\n",
    "\n",
    "    X = keras.layers.Conv2D(filters=DEPTH*8, kernel_size=K_SIZE, strides=2, padding='same')(X)\n",
    "    X = keras.layers.BatchNormalization()(X)\n",
    "    X = keras.layers.LeakyReLU(alpha=0.2)(X)\n",
    "    \n",
    "    \n",
    "    X = keras.layers.Flatten()(X)\n",
    "    X = keras.layers.Dense(LATENT_DEPTH)(X)    \n",
    "    X = keras.layers.BatchNormalization()(X)\n",
    "    X = keras.layers.LeakyReLU(alpha=0.2)(X)\n",
    "    \n",
    "    mean = keras.layers.Dense(LATENT_DEPTH,activation=\"tanh\")(X)\n",
    "    logsigma = keras.layers.Dense(LATENT_DEPTH,activation=\"tanh\")(X)\n",
    "    latent = keras.layers.Lambda(sampling, output_shape=(LATENT_DEPTH,))([mean, logsigma])\n",
    "    \n",
    "    kl_loss = 1 + logsigma - keras.backend.square(mean) - keras.backend.exp(logsigma)\n",
    "    kl_loss = keras.backend.mean(kl_loss, axis=-1)\n",
    "    kl_loss *= -0.5\n",
    "    \n",
    "    return keras.models.Model(input_E, [latent,kl_loss])\n",
    "\n",
    "def generator():\n",
    "    input_G = keras.layers.Input(shape=(LATENT_DEPTH,))\n",
    "\n",
    "    X = keras.layers.Dense(8*8*256)(input_G)\n",
    "    X = keras.layers.BatchNormalization()(X)\n",
    "    X = keras.layers.LeakyReLU(alpha=0.2)(X)\n",
    "    X = keras.layers.Reshape((8, 8, DEPTH * 8))(X)\n",
    "    \n",
    "    X = keras.layers.Conv2DTranspose(filters=DEPTH*8, kernel_size=K_SIZE, strides=2, padding='same')(X)\n",
    "    X = keras.layers.BatchNormalization()(X)\n",
    "    X = keras.layers.LeakyReLU(alpha=0.2)(X)\n",
    "\n",
    "    X = keras.layers.Conv2DTranspose(filters=DEPTH*4, kernel_size=K_SIZE, strides=2, padding='same')(X)\n",
    "    X = keras.layers.BatchNormalization()(X)\n",
    "    X = keras.layers.LeakyReLU(alpha=0.2)(X)\n",
    "    \n",
    "    X = keras.layers.Conv2DTranspose(filters=DEPTH, kernel_size=K_SIZE, strides=2, padding='same')(X)\n",
    "    X = keras.layers.BatchNormalization()(X)\n",
    "    X = keras.layers.LeakyReLU(alpha=0.2)(X)\n",
    "    \n",
    "    X = keras.layers.Conv2D(filters=3, kernel_size=K_SIZE, padding='same')(X)\n",
    "    X = keras.layers.Activation('sigmoid')(X)\n",
    "\n",
    "    return keras.models.Model(input_G, X)\n",
    "\n",
    "def discriminator():\n",
    "    input_D = keras.layers.Input(shape=(IM_DIM, IM_DIM, 3))\n",
    "    \n",
    "    X = keras.layers.Conv2D(filters=DEPTH, kernel_size=K_SIZE, strides=2, padding='same')(input_D)\n",
    "    X = keras.layers.LeakyReLU(alpha=0.2)(X)\n",
    "    \n",
    "    X = keras.layers.Conv2D(filters=DEPTH*4, kernel_size=K_SIZE, strides=2, padding='same')(input_D)\n",
    "    X = keras.layers.LeakyReLU(alpha=0.2)(X)\n",
    "    X = keras.layers.BatchNormalization()(X)\n",
    "\n",
    "    X = keras.layers.Conv2D(filters=DEPTH*8, kernel_size=K_SIZE, strides=2, padding='same')(X)\n",
    "    X = keras.layers.BatchNormalization()(X)\n",
    "    X = keras.layers.LeakyReLU(alpha=0.2)(X)\n",
    "\n",
    "    X = keras.layers.Flatten()(X)\n",
    "    inner_output = keras.layers.Dense(512)(X)\n",
    "    X = keras.layers.BatchNormalization()(inner_output)\n",
    "    X = keras.layers.LeakyReLU(alpha=0.2)(X)\n",
    "    \n",
    "    output = keras.layers.Dense(1, use_bias=False)(X)    \n",
    "    \n",
    "    return keras.models.Model(input_D, [output, inner_output])"
   ]
  },
  {
   "cell_type": "markdown",
   "metadata": {},
   "source": [
    "## Training\n",
    "### VAE pre training"
   ]
  },
  {
   "cell_type": "code",
   "execution_count": 57,
   "metadata": {},
   "outputs": [
    {
     "name": "stdout",
     "output_type": "stream",
     "text": [
      "3165/3166 [============================>.] - ETA: 0s - reconstruction loss: 0.1208"
     ]
    }
   ],
   "source": [
    "E = encoder()\n",
    "G = generator()\n",
    "\n",
    "E_opt = keras.optimizers.Adam(lr=0.0001)\n",
    "G_opt = keras.optimizers.Adam(lr=0.0001)\n",
    "\n",
    "kl_coef = 0.1\n",
    "\n",
    "@tf.function\n",
    "def train_step_vae(x):\n",
    "    with tf.GradientTape(persistent=True) as tape :\n",
    "        latent,kl_loss = E(x)\n",
    "        reconstructed = G(latent)\n",
    "        reconstructed_loss = tf.reduce_mean(tf.abs(x-reconstructed)) + kl_coef*tf.reduce_mean(kl_loss)\n",
    "    E_grad = tape.gradient(reconstructed_loss,E.trainable_variables)\n",
    "    G_grad = tape.gradient(reconstructed_loss,G.trainable_variables)\n",
    "    E_opt.apply_gradients(zip(E_grad, E.trainable_variables))\n",
    "    G_opt.apply_gradients(zip(G_grad, G.trainable_variables))\n",
    "    return reconstructed_loss\n",
    "\n",
    "stop = tf.data.experimental.cardinality(im_dataset_batch).numpy() \n",
    "for e in range(2) :\n",
    "    bar = keras.utils.Progbar(stop)\n",
    "    step = 0\n",
    "    for x in im_dataset_batch :\n",
    "        l = train_step_vae(x)\n",
    "        bar.update(step, values=[(\"reconstruction loss\", l)])\n",
    "        if step >= stop:\n",
    "            break    \n",
    "        step += 1\n",
    "\n",
    "G.save('saved-models/G_pretrained.h5')\n",
    "E.save('saved-models/E_pretrained.h5')        "
   ]
  },
  {
   "cell_type": "code",
   "execution_count": 64,
   "metadata": {},
   "outputs": [
    {
     "data": {
      "image/png": "[encoded data removed]",
      "text/plain": [
       "<Figure size 432x288 with 3 Axes>"
      ]
     },
     "metadata": {
      "needs_background": "light"
     },
     "output_type": "display_data"
    }
   ],
   "source": [
    "for x in im_dataset_batch.take(1) :\n",
    "    pred = G(E(x))\n",
    "    plt.subplot(131)\n",
    "    plt.imshow(x[0])\n",
    "    plt.subplot(132)\n",
    "    plt.imshow(pred[0])\n",
    "    plt.subplot(133)\n",
    "    plt.imshow(G(np.random.normal(size=(1,LATENT_DEPTH)))[0])"
   ]
  },
  {
   "cell_type": "markdown",
   "metadata": {},
   "source": [
    "### Discriminator pretraining"
   ]
  },
  {
   "cell_type": "code",
   "execution_count": 6,
   "metadata": {},
   "outputs": [
    {
     "name": "stdout",
     "output_type": "stream",
     "text": [
      "WARNING:tensorflow:No training configuration found in save file: the model was *not* compiled. Compile it manually.\n",
      "WARNING:tensorflow:No training configuration found in save file: the model was *not* compiled. Compile it manually.\n",
      "316/316 [==============================] - 68s 214ms/step - dis loss: -3.9328\n"
     ]
    }
   ],
   "source": [
    "D = discriminator()\n",
    "G = keras.models.load_model('saved-models/DG_pretrained.h5')\n",
    "E = keras.models.load_model('saved-models/E_pretrained.h5')\n",
    "\n",
    "conv_layers = [D.layers[1], D.layers[4]]\n",
    "dens_layers = [D.layers[8], D.layers[11]]\n",
    "\n",
    "weights_clipped = []\n",
    "c_clipping = []\n",
    "c0 = 10\n",
    "\n",
    "for conv in conv_layers :\n",
    "    weights_clipped += [conv.kernel, conv.bias]\n",
    "    shape = conv.kernel.shape\n",
    "    c_clipping += [c0/(shape[0]*shape[1]*shape[2]), c0]\n",
    "    \n",
    "for conv in dens_layers :\n",
    "    weights_clipped += [conv.kernel]\n",
    "    shape = conv.kernel.shape\n",
    "    c_clipping += [c0/(shape[0])]\n",
    "    if conv.bias is not None :\n",
    "        weights_clipped += [conv.bias]\n",
    "        c_clipping += [c0]\n",
    "        \n",
    "        \n",
    "D_opt = keras.optimizers.Adam(lr=0.0001)\n",
    "\n",
    "@tf.function\n",
    "def train_step_dis(x):\n",
    "    fake = G(E(x))\n",
    "    with tf.GradientTape() as tape :\n",
    "        y_dis_true,_ = D(x)\n",
    "        y_dis_fake,_ = D(fake)\n",
    "        dis_loss = tf.reduce_mean(y_dis_true - y_dis_fake) #D will try to send fake to +inf and true to -inf\n",
    "    D_grad = tape.gradient(dis_loss,D.trainable_variables)\n",
    "    D_opt.apply_gradients(zip(D_grad, D.trainable_variables))\n",
    "    for w,c in zip(weights_clipped, c_clipping) :\n",
    "        w.assign(tf.clip_by_value(w,-c, c))\n",
    "    return dis_loss\n",
    "\n",
    "step = 0\n",
    "stop = tf.data.experimental.cardinality(im_dataset_batch).numpy() // 10\n",
    "bar = keras.utils.Progbar(stop)\n",
    "for x in im_dataset_batch :\n",
    "    l = train_step_dis(x)\n",
    "    bar.update(step, values=[(\"dis loss\", l)])\n",
    "    if step >= stop:\n",
    "        break    \n",
    "    step += 1\n",
    "\n",
    "D.save('saved-models/D_pretrained.h5')"
   ]
  },
  {
   "cell_type": "markdown",
   "metadata": {},
   "source": [
    "### Main training "
   ]
  },
  {
   "cell_type": "code",
   "execution_count": 7,
   "metadata": {},
   "outputs": [],
   "source": [
    "for x in im_dataset_batch.take(1) :\n",
    "    test_image = x"
   ]
  },
  {
   "cell_type": "code",
   "execution_count": 68,
   "metadata": {},
   "outputs": [
    {
     "name": "stdout",
     "output_type": "stream",
     "text": [
      "WARNING:tensorflow:No training configuration found in save file: the model was *not* compiled. Compile it manually.\n",
      "WARNING:tensorflow:No training configuration found in save file: the model was *not* compiled. Compile it manually.\n",
      "WARNING:tensorflow:No training configuration found in save file: the model was *not* compiled. Compile it manually.\n"
     ]
    }
   ],
   "source": [
    "D = keras.models.load_model('saved-models/D_pretrained.h5')\n",
    "G = keras.models.load_model('saved-models/DG_pretrained.h5')\n",
    "E = keras.models.load_model('saved-models/E_pretrained.h5')\n",
    "\n",
    "\n",
    "conv_layers = [D.layers[1], D.layers[4]]\n",
    "dens_layers = [D.layers[8], D.layers[11]]\n",
    "\n",
    "weights_clipped = []\n",
    "c_clipping = []\n",
    "c0 = 10\n",
    "\n",
    "for conv in conv_layers :\n",
    "    weights_clipped += [conv.kernel, conv.bias]\n",
    "    shape = conv.kernel.shape\n",
    "    c_clipping += [c0/(shape[0]*shape[1]*shape[2]), c0]\n",
    "    \n",
    "for conv in dens_layers :\n",
    "    weights_clipped += [conv.kernel]\n",
    "    shape = conv.kernel.shape\n",
    "    c_clipping += [c0/(shape[0])]\n",
    "    if conv.bias is not None :\n",
    "        weights_clipped += [conv.bias]\n",
    "        c_clipping += [c0]\n",
    "\n",
    "alpha = 1.0\n",
    "beta = 1.0\n",
    "kl_coef = 0.1    \n",
    "\n",
    "@tf.function\n",
    "def train_step_vaegan(x):\n",
    "    lattent_r =  tf.random.normal((batch_size, LATENT_DEPTH))\n",
    "    with tf.GradientTape(persistent=True) as tape :\n",
    "        lattent,kl_loss = E(x)\n",
    "        kl_loss =  tf.reduce_mean(kl_loss)\n",
    "        fake = G(lattent)\n",
    "        y_dis_fake,dis_inner_fake = D(fake)\n",
    "        y_dis_fake_r,dis_inner_fake_r = D(G(lattent_r))\n",
    "        y_dis_true,dis_inner_true = D(x)\n",
    "\n",
    "        vae_inner = dis_inner_fake-dis_inner_true\n",
    "        vae_inner = vae_inner*vae_inner\n",
    "\n",
    "        vae_inner_loss = tf.reduce_mean(vae_inner)\n",
    "        fake_dis_loss = tf.reduce_mean(y_dis_fake)\n",
    "        r_dis_loss = tf.reduce_mean(y_dis_fake_r)\n",
    "        t_dis_loss = tf.reduce_mean(y_dis_true)\n",
    "        gan_loss = t_dis_loss - (fake_dis_loss + r_dis_loss)/2 \n",
    "        vae_loss = tf.reduce_mean(tf.abs(x-fake)) \n",
    "        E_loss = vae_loss + alpha*vae_inner_loss + 0.001*kl_loss\n",
    "        DG_loss = E_loss*beta - gan_loss\n",
    "        D_loss = gan_loss\n",
    "\n",
    "    E_grad = tape.gradient(E_loss,E.trainable_variables)\n",
    "    DG_grad = tape.gradient(DG_loss,DG.trainable_variables)\n",
    "    D_grad = tape.gradient(D_loss,D.trainable_variables)\n",
    "    del tape\n",
    "    E_opt.apply_gradients(zip(E_grad, E.trainable_variables))\n",
    "    DG_opt.apply_gradients(zip(DG_grad, DG.trainable_variables))\n",
    "    D_opt.apply_gradients(zip(D_grad, D.trainable_variables))\n",
    "    for w,c in zip(weights_clipped, c_clipping) :\n",
    "        w.assign(tf.clip_by_value(w,-c, c))\n",
    "    return [gan_loss, vae_loss, fake_dis_loss, r_dis_loss, t_dis_loss, vae_inner_loss, E_loss, D_loss, kl_loss]\n",
    "    \n",
    "@tf.function\n",
    "def train_step_vaegan_no_dis(x):\n",
    "    lattent_r =  tf.random.normal((batch_size, LATENT_DEPTH))\n",
    "    with tf.GradientTape(persistent=True) as tape :\n",
    "        lattent,kl_loss = E(x)\n",
    "        kl_loss =  tf.reduce_mean(kl_loss)\n",
    "        fake = G(lattent)\n",
    "        y_dis_fake,dis_inner_fake = D(fake)\n",
    "        y_dis_fake_r,dis_inner_fake_r = D(G(lattent_r))\n",
    "        y_dis_true,dis_inner_true = D(x)\n",
    "\n",
    "        vae_inner = dis_inner_fake-dis_inner_true\n",
    "        vae_inner = vae_inner*vae_inner\n",
    "\n",
    "        vae_inner_loss = tf.reduce_mean(vae_inner)\n",
    "        fake_dis_loss = tf.reduce_mean(y_dis_fake)\n",
    "        r_dis_loss = tf.reduce_mean(y_dis_fake_r)\n",
    "        t_dis_loss = tf.reduce_mean(y_dis_true)\n",
    "        gan_loss = t_dis_loss - (fake_dis_loss + r_dis_loss)/2 \n",
    "        vae_loss = tf.reduce_mean(tf.abs(x-fake)) \n",
    "        E_loss = vae_loss + alpha*vae_inner_loss + 0.001*kl_loss\n",
    "        DG_loss = E_loss*beta - gan_loss\n",
    "\n",
    "    D_loss = gan_loss\n",
    "\n",
    "    E_grad = tape.gradient(E_loss,E.trainable_variables)\n",
    "    DG_grad = tape.gradient(DG_loss,DG.trainable_variables)\n",
    "    del tape\n",
    "    E_opt.apply_gradients(zip(E_grad, E.trainable_variables))\n",
    "    DG_opt.apply_gradients(zip(DG_grad, DG.trainable_variables))\n",
    "    return [gan_loss, vae_loss, fake_dis_loss, r_dis_loss, t_dis_loss, vae_inner_loss, E_loss, D_loss, kl_loss]        \n",
    "\n",
    "\n",
    "\n",
    "\n",
    "\n",
    "\n",
    "\n",
    "metrics_names = [\"gan_loss\", \"vae_loss\", \"fake_dis_loss\", \"r_dis_loss\", \"t_dis_loss\", \"vae_inner_loss\", \"E_loss\", \"D_loss\", \"kl_loss\", \"training_dis\"]\n",
    "metrics = []\n",
    "for m in metrics_names :\n",
    "    metrics.append(tf.keras.metrics.Mean('m', dtype=tf.float32))\n",
    "    \n",
    "def print_metrics() :\n",
    "    s = \"\"\n",
    "    for name,metric in zip(metrics_names,metrics) :\n",
    "        s+= \" \" + name + \" \" + str(np.around(metric.result().numpy(), 3)) \n",
    "    print(f\"\\rStep : \" + str(step) + \" \" + s, end=\"\", flush=True)\n",
    "    with train_summary_writer.as_default():\n",
    "        for name,metric in zip(metrics_names,metrics) :\n",
    "            tf.summary.scalar(name, metric.result(), step= step // log_freq)\n",
    "    for metric in metrics : \n",
    "        metric.reset_states()\n",
    "    \n",
    "step = 0\n",
    "max_step = 50\n",
    "save_freq = 25000\n",
    "log_freq = 10\n",
    "img_log_freq = 1000\n",
    "\n",
    "current_time = datetime.datetime.now().strftime(\"%Y%m%d-%H%M%S\")\n",
    "train_log_dir = ('logs/sep_D%dL%d/' % (DEPTH,LATENT_DEPTH)) + current_time \n",
    "train_summary_writer = tf.summary.create_file_writer(train_log_dir)\n",
    "name = ('sep_D%dL%d' % (DEPTH,LATENT_DEPTH))\n",
    "train_dis = True\n",
    "\n",
    "E_opt = keras.optimizers.Adam(lr=0.00001)\n",
    "DG_opt = keras.optimizers.Adam(lr=0.00001)\n",
    "D_opt = keras.optimizers.Adam(lr=0.00001)\n",
    "\n",
    "train_step_vaegan = make_train_step_vaegan(E, DG, D, E_opt, DG_opt, D_opt)\n",
    "train_step_vaegan_no_dis = make_train_step_vaegan_no_dis(E, DG, D, E_opt, DG_opt)\n",
    "\n",
    "for e in range(1000) :\n",
    "    with train_summary_writer.as_default():\n",
    "        for x in im_dataset_batch.take(1):\n",
    "            x = x[:8]\n",
    "            lattent = E(test_image)[0]\n",
    "            fake = DG(lattent);\n",
    "            fake_r = DG(tf.random.normal((batch_size, LATENT_DEPTH)))\n",
    "            tf.summary.image(\"reconstructed image\", fake, step= step // log_freq, max_outputs=8)\n",
    "            tf.summary.image(\"random image\", fake_r, step= step // log_freq, max_outputs=8)\n",
    "            dis_fake,inner_dis_fake = D(fake)\n",
    "            dis_fake_r,inner_dis_fake_r = D(fake_r)\n",
    "            dis_true,inner_dis_true = D(test_image)\n",
    "            tf.summary.histogram(\"dis fake\", inner_dis_fake, step= step // log_freq, buckets=20)\n",
    "            tf.summary.histogram(\"dis true\", inner_dis_true, step= step // log_freq, buckets=20)\n",
    "            tf.summary.histogram(\"dis random\", inner_dis_fake_r, step= step // log_freq, buckets=20)\n",
    "            tf.summary.histogram(\"dis lattent\", lattent, step= step // log_freq, buckets=20)\n",
    "            tf.summary.histogram(\"dis normal\", tf.random.normal((batch_size, LATENT_DEPTH)), step= step // log_freq, buckets=20)\n",
    "\n",
    "    for x in im_dataset_batch.take(100) :\n",
    "        results = train_step_vaegan(x) + [1.]\n",
    "        for metric,result in zip(metrics, results) :\n",
    "            metric(result)\n",
    "        step += 1\n",
    "        if not (step % log_freq):\n",
    "            print_metrics()\n",
    "\n",
    "    for x in im_dataset_batch.take(0) :\n",
    "        results = train_step_vaegan_no_dis(x) + [0.]\n",
    "        for metric,result in zip(metrics, results) :\n",
    "            metric(result)\n",
    "        step += 1\n",
    "        if not (step % log_freq):\n",
    "            print_metrics()   "
   ]
  },
  {
   "cell_type": "code",
   "execution_count": null,
   "metadata": {},
   "outputs": [],
   "source": []
  }
 ],
 "metadata": {
  "kernelspec": {
   "display_name": "Python 3",
   "language": "python",
   "name": "python3"
  },
  "language_info": {
   "codemirror_mode": {
    "name": "ipython",
    "version": 3
   },
   "file_extension": ".py",
   "mimetype": "text/x-python",
   "name": "python",
   "nbconvert_exporter": "python",
   "pygments_lexer": "ipython3",
   "version": "3.7.4"
  }
 },
 "nbformat": 4,
 "nbformat_minor": 2
}
